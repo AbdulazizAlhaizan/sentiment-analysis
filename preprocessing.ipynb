{
 "cells": [
  {
   "cell_type": "code",
   "execution_count": 40,
   "id": "e2dfc609",
   "metadata": {},
   "outputs": [
    {
     "name": "stdout",
     "output_type": "stream",
     "text": [
      "Requirement already satisfied: farasapy in c:\\users\\abdul\\anaconda3\\lib\\site-packages (0.0.14)\n",
      "Requirement already satisfied: requests in c:\\users\\abdul\\anaconda3\\lib\\site-packages (from farasapy) (2.31.0)\n",
      "Requirement already satisfied: tqdm in c:\\users\\abdul\\anaconda3\\lib\\site-packages (from farasapy) (4.65.0)\n",
      "Requirement already satisfied: charset-normalizer<4,>=2 in c:\\users\\abdul\\anaconda3\\lib\\site-packages (from requests->farasapy) (2.0.4)\n",
      "Requirement already satisfied: idna<4,>=2.5 in c:\\users\\abdul\\anaconda3\\lib\\site-packages (from requests->farasapy) (3.4)\n",
      "Requirement already satisfied: urllib3<3,>=1.21.1 in c:\\users\\abdul\\anaconda3\\lib\\site-packages (from requests->farasapy) (2.0.7)\n",
      "Requirement already satisfied: certifi>=2017.4.17 in c:\\users\\abdul\\anaconda3\\lib\\site-packages (from requests->farasapy) (2024.2.2)\n",
      "Requirement already satisfied: colorama in c:\\users\\abdul\\anaconda3\\lib\\site-packages (from tqdm->farasapy) (0.4.6)\n"
     ]
    }
   ],
   "source": [
    "!pip install farasapy \n"
   ]
  },
  {
   "cell_type": "code",
   "execution_count": null,
   "id": "cd29aa29",
   "metadata": {},
   "outputs": [
    {
     "name": "stdout",
     "output_type": "stream",
     "text": [
      "Requirement already satisfied: camel-tools in c:\\users\\abdul\\anaconda3\\lib\\site-packages (1.5.5)\n",
      "Requirement already satisfied: future in c:\\users\\abdul\\anaconda3\\lib\\site-packages (from camel-tools) (0.18.3)\n",
      "Requirement already satisfied: six in c:\\users\\abdul\\anaconda3\\lib\\site-packages (from camel-tools) (1.16.0)\n",
      "Requirement already satisfied: docopt in c:\\users\\abdul\\anaconda3\\lib\\site-packages (from camel-tools) (0.6.2)\n",
      "Requirement already satisfied: cachetools in c:\\users\\abdul\\anaconda3\\lib\\site-packages (from camel-tools) (4.2.2)\n",
      "Requirement already satisfied: numpy<2 in c:\\users\\abdul\\anaconda3\\lib\\site-packages (from camel-tools) (1.24.3)\n",
      "Requirement already satisfied: scipy in c:\\users\\abdul\\anaconda3\\lib\\site-packages (from camel-tools) (1.11.4)\n",
      "Requirement already satisfied: pandas in c:\\users\\abdul\\anaconda3\\lib\\site-packages (from camel-tools) (2.1.4)\n",
      "Requirement already satisfied: scikit-learn in c:\\users\\abdul\\anaconda3\\lib\\site-packages (from camel-tools) (1.3.0)\n",
      "Requirement already satisfied: dill in c:\\users\\abdul\\anaconda3\\lib\\site-packages (from camel-tools) (0.3.7)\n",
      "Requirement already satisfied: torch>=2.0 in c:\\users\\abdul\\anaconda3\\lib\\site-packages (from camel-tools) (2.6.0)\n",
      "Requirement already satisfied: transformers<4.44.0,>=4.0 in c:\\users\\abdul\\anaconda3\\lib\\site-packages (from camel-tools) (4.43.4)\n",
      "Requirement already satisfied: editdistance in c:\\users\\abdul\\anaconda3\\lib\\site-packages (from camel-tools) (0.8.1)\n",
      "Requirement already satisfied: requests in c:\\users\\abdul\\anaconda3\\lib\\site-packages (from camel-tools) (2.31.0)\n",
      "Requirement already satisfied: emoji in c:\\users\\abdul\\anaconda3\\lib\\site-packages (from camel-tools) (2.14.1)\n",
      "Requirement already satisfied: pyrsistent in c:\\users\\abdul\\anaconda3\\lib\\site-packages (from camel-tools) (0.20.0)\n",
      "Requirement already satisfied: tabulate in c:\\users\\abdul\\anaconda3\\lib\\site-packages (from camel-tools) (0.9.0)\n",
      "Requirement already satisfied: tqdm in c:\\users\\abdul\\anaconda3\\lib\\site-packages (from camel-tools) (4.65.0)\n",
      "Requirement already satisfied: muddler in c:\\users\\abdul\\anaconda3\\lib\\site-packages (from camel-tools) (0.1.3)\n",
      "Requirement already satisfied: filelock in c:\\users\\abdul\\anaconda3\\lib\\site-packages (from torch>=2.0->camel-tools) (3.13.1)\n",
      "Requirement already satisfied: typing-extensions>=4.10.0 in c:\\users\\abdul\\anaconda3\\lib\\site-packages (from torch>=2.0->camel-tools) (4.13.1)\n",
      "Requirement already satisfied: networkx in c:\\users\\abdul\\anaconda3\\lib\\site-packages (from torch>=2.0->camel-tools) (3.1)\n",
      "Requirement already satisfied: jinja2 in c:\\users\\abdul\\anaconda3\\lib\\site-packages (from torch>=2.0->camel-tools) (3.1.3)\n",
      "Requirement already satisfied: fsspec in c:\\users\\abdul\\anaconda3\\lib\\site-packages (from torch>=2.0->camel-tools) (2023.10.0)\n",
      "Requirement already satisfied: sympy==1.13.1 in c:\\users\\abdul\\anaconda3\\lib\\site-packages (from torch>=2.0->camel-tools) (1.13.1)\n",
      "Requirement already satisfied: mpmath<1.4,>=1.1.0 in c:\\users\\abdul\\anaconda3\\lib\\site-packages (from sympy==1.13.1->torch>=2.0->camel-tools) (1.3.0)\n",
      "Requirement already satisfied: huggingface-hub<1.0,>=0.23.2 in c:\\users\\abdul\\anaconda3\\lib\\site-packages (from transformers<4.44.0,>=4.0->camel-tools) (0.30.2)\n",
      "Requirement already satisfied: packaging>=20.0 in c:\\users\\abdul\\anaconda3\\lib\\site-packages (from transformers<4.44.0,>=4.0->camel-tools) (23.1)\n",
      "Requirement already satisfied: pyyaml>=5.1 in c:\\users\\abdul\\anaconda3\\lib\\site-packages (from transformers<4.44.0,>=4.0->camel-tools) (6.0.1)\n",
      "Requirement already satisfied: regex!=2019.12.17 in c:\\users\\abdul\\anaconda3\\lib\\site-packages (from transformers<4.44.0,>=4.0->camel-tools) (2023.10.3)\n",
      "Requirement already satisfied: safetensors>=0.4.1 in c:\\users\\abdul\\anaconda3\\lib\\site-packages (from transformers<4.44.0,>=4.0->camel-tools) (0.5.3)\n",
      "Requirement already satisfied: tokenizers<0.20,>=0.19 in c:\\users\\abdul\\anaconda3\\lib\\site-packages (from transformers<4.44.0,>=4.0->camel-tools) (0.19.1)\n",
      "Requirement already satisfied: colorama in c:\\users\\abdul\\anaconda3\\lib\\site-packages (from tqdm->camel-tools) (0.4.6)\n",
      "Requirement already satisfied: python-dateutil>=2.8.2 in c:\\users\\abdul\\anaconda3\\lib\\site-packages (from pandas->camel-tools) (2.8.2)\n",
      "Requirement already satisfied: pytz>=2020.1 in c:\\users\\abdul\\anaconda3\\lib\\site-packages (from pandas->camel-tools) (2023.3.post1)\n",
      "Requirement already satisfied: tzdata>=2022.1 in c:\\users\\abdul\\anaconda3\\lib\\site-packages (from pandas->camel-tools) (2023.3)\n",
      "Requirement already satisfied: charset-normalizer<4,>=2 in c:\\users\\abdul\\anaconda3\\lib\\site-packages (from requests->camel-tools) (2.0.4)\n",
      "Requirement already satisfied: idna<4,>=2.5 in c:\\users\\abdul\\anaconda3\\lib\\site-packages (from requests->camel-tools) (3.4)\n",
      "Requirement already satisfied: urllib3<3,>=1.21.1 in c:\\users\\abdul\\anaconda3\\lib\\site-packages (from requests->camel-tools) (2.0.7)\n",
      "Requirement already satisfied: certifi>=2017.4.17 in c:\\users\\abdul\\anaconda3\\lib\\site-packages (from requests->camel-tools) (2024.2.2)\n",
      "Requirement already satisfied: joblib>=1.1.1 in c:\\users\\abdul\\anaconda3\\lib\\site-packages (from scikit-learn->camel-tools) (1.2.0)\n",
      "Requirement already satisfied: threadpoolctl>=2.0.0 in c:\\users\\abdul\\anaconda3\\lib\\site-packages (from scikit-learn->camel-tools) (2.2.0)\n",
      "Requirement already satisfied: MarkupSafe>=2.0 in c:\\users\\abdul\\anaconda3\\lib\\site-packages (from jinja2->torch>=2.0->camel-tools) (2.1.3)\n"
     ]
    }
   ],
   "source": [
    "!pip install camel-tools -q\n",
    "\n"
   ]
  },
  {
   "cell_type": "code",
   "execution_count": null,
   "id": "7507eec7",
   "metadata": {},
   "outputs": [
    {
     "name": "stdout",
     "output_type": "stream",
     "text": [
      "Requirement already satisfied: tashaphyne in c:\\users\\abdul\\anaconda3\\lib\\site-packages (0.3.6)\n",
      "Requirement already satisfied: pyarabic in c:\\users\\abdul\\anaconda3\\lib\\site-packages (from tashaphyne) (0.6.15)\n",
      "Requirement already satisfied: six>=1.14.0 in c:\\users\\abdul\\anaconda3\\lib\\site-packages (from pyarabic->tashaphyne) (1.16.0)\n"
     ]
    }
   ],
   "source": [
    "!pip install tashaphyne -q"
   ]
  },
  {
   "cell_type": "code",
   "execution_count": null,
   "id": "c8ebe1df",
   "metadata": {},
   "outputs": [
    {
     "name": "stdout",
     "output_type": "stream",
     "text": [
      "Requirement already satisfied: nltk in c:\\users\\abdul\\anaconda3\\lib\\site-packages (3.8.1)\n",
      "Requirement already satisfied: click in c:\\users\\abdul\\anaconda3\\lib\\site-packages (from nltk) (8.1.7)\n",
      "Requirement already satisfied: joblib in c:\\users\\abdul\\anaconda3\\lib\\site-packages (from nltk) (1.2.0)\n",
      "Requirement already satisfied: regex>=2021.8.3 in c:\\users\\abdul\\anaconda3\\lib\\site-packages (from nltk) (2023.10.3)\n",
      "Requirement already satisfied: tqdm in c:\\users\\abdul\\anaconda3\\lib\\site-packages (from nltk) (4.65.0)\n",
      "Requirement already satisfied: colorama in c:\\users\\abdul\\anaconda3\\lib\\site-packages (from click->nltk) (0.4.6)\n"
     ]
    }
   ],
   "source": [
    "!pip install nltk -q"
   ]
  },
  {
   "cell_type": "code",
   "execution_count": null,
   "id": "9a675cd0",
   "metadata": {},
   "outputs": [],
   "source": []
  },
  {
   "cell_type": "code",
   "execution_count": 6,
   "id": "b032dfaf",
   "metadata": {},
   "outputs": [],
   "source": [
    "import pandas as pd\n",
    "import numpy as np\n",
    "import os"
   ]
  },
  {
   "cell_type": "code",
   "execution_count": 6,
   "id": "25290392",
   "metadata": {},
   "outputs": [],
   "source": [
    "df = pd.read_excel('original_dataset.xlsx')"
   ]
  },
  {
   "cell_type": "code",
   "execution_count": 7,
   "id": "193ab633",
   "metadata": {},
   "outputs": [
    {
     "data": {
      "text/html": [
       "<div>\n",
       "<style scoped>\n",
       "    .dataframe tbody tr th:only-of-type {\n",
       "        vertical-align: middle;\n",
       "    }\n",
       "\n",
       "    .dataframe tbody tr th {\n",
       "        vertical-align: top;\n",
       "    }\n",
       "\n",
       "    .dataframe thead th {\n",
       "        text-align: right;\n",
       "    }\n",
       "</style>\n",
       "<table border=\"1\" class=\"dataframe\">\n",
       "  <thead>\n",
       "    <tr style=\"text-align: right;\">\n",
       "      <th></th>\n",
       "      <th>Unnamed: 0</th>\n",
       "      <th>review_description</th>\n",
       "      <th>rating</th>\n",
       "      <th>company</th>\n",
       "    </tr>\n",
       "  </thead>\n",
       "  <tbody>\n",
       "    <tr>\n",
       "      <th>0</th>\n",
       "      <td>0</td>\n",
       "      <td>سيئ جدا بعد الإصدار الجديد</td>\n",
       "      <td>-1</td>\n",
       "      <td>alahli_bank</td>\n",
       "    </tr>\n",
       "    <tr>\n",
       "      <th>1</th>\n",
       "      <td>1</td>\n",
       "      <td>ابلكيشن زباله بجد</td>\n",
       "      <td>-1</td>\n",
       "      <td>alahli_bank</td>\n",
       "    </tr>\n",
       "    <tr>\n",
       "      <th>2</th>\n",
       "      <td>2</td>\n",
       "      <td>سيئ التطبيق لايعمل</td>\n",
       "      <td>-1</td>\n",
       "      <td>alahli_bank</td>\n",
       "    </tr>\n",
       "    <tr>\n",
       "      <th>3</th>\n",
       "      <td>3</td>\n",
       "      <td>للأسف التطبيق للأسوأ كان جدا رائع وسهل وبسيط ا...</td>\n",
       "      <td>-1</td>\n",
       "      <td>alahli_bank</td>\n",
       "    </tr>\n",
       "    <tr>\n",
       "      <th>4</th>\n",
       "      <td>4</td>\n",
       "      <td>التحديث بطيئ جدا جدا عند الفتح</td>\n",
       "      <td>-1</td>\n",
       "      <td>alahli_bank</td>\n",
       "    </tr>\n",
       "  </tbody>\n",
       "</table>\n",
       "</div>"
      ],
      "text/plain": [
       "   Unnamed: 0                                 review_description  rating  \\\n",
       "0           0                         سيئ جدا بعد الإصدار الجديد      -1   \n",
       "1           1                                  ابلكيشن زباله بجد      -1   \n",
       "2           2                                 سيئ التطبيق لايعمل      -1   \n",
       "3           3  للأسف التطبيق للأسوأ كان جدا رائع وسهل وبسيط ا...      -1   \n",
       "4           4                     التحديث بطيئ جدا جدا عند الفتح      -1   \n",
       "\n",
       "       company  \n",
       "0  alahli_bank  \n",
       "1  alahli_bank  \n",
       "2  alahli_bank  \n",
       "3  alahli_bank  \n",
       "4  alahli_bank  "
      ]
     },
     "execution_count": 7,
     "metadata": {},
     "output_type": "execute_result"
    }
   ],
   "source": [
    "df.head()"
   ]
  },
  {
   "cell_type": "code",
   "execution_count": 8,
   "id": "c16b3bf6",
   "metadata": {},
   "outputs": [],
   "source": [
    "data = np.array(df['review_description'])"
   ]
  },
  {
   "cell_type": "code",
   "execution_count": 9,
   "id": "f96cd29e",
   "metadata": {},
   "outputs": [
    {
     "data": {
      "text/plain": [
       "67127"
      ]
     },
     "execution_count": 9,
     "metadata": {},
     "output_type": "execute_result"
    }
   ],
   "source": [
    "len(data)"
   ]
  },
  {
   "cell_type": "markdown",
   "id": "55949bd2",
   "metadata": {},
   "source": [
    "### Stopwords were taken from:\n",
    "https://github.com/mohataher/arabic-stop-words/blob/master/list.txt"
   ]
  },
  {
   "cell_type": "code",
   "execution_count": 10,
   "id": "b78b7427",
   "metadata": {},
   "outputs": [
    {
     "data": {
      "text/plain": [
       "800"
      ]
     },
     "execution_count": 10,
     "metadata": {},
     "output_type": "execute_result"
    }
   ],
   "source": [
    "# load the Arabic stop words from stopwords.txt\n",
    "import camel_tools\n",
    "import os \n",
    "import glob\n",
    "\n",
    "stopwords_path = os.path.join('stopwords.txt')\n",
    "with open(stopwords_path, 'r', encoding='utf-8') as f:\n",
    "    stopwords = f.read().splitlines()\n",
    "len(stopwords)\n"
   ]
  },
  {
   "cell_type": "code",
   "execution_count": 11,
   "id": "8737c4bd",
   "metadata": {},
   "outputs": [],
   "source": [
    "from camel_tools.tokenizers.word import simple_word_tokenize\n",
    "\n",
    "def remove_stopwords(text, stopwords):\n",
    "    # Tokenize the text into words\n",
    "    tokens = simple_word_tokenize(text)\n",
    "\n",
    "    # Filter out tokens that are in the stopwords list\n",
    "    filtered_tokens = [token for token in tokens if token not in stopwords]\n",
    "\n",
    "    return filtered_tokens\n"
   ]
  },
  {
   "cell_type": "code",
   "execution_count": 12,
   "id": "175b8d12",
   "metadata": {},
   "outputs": [
    {
     "name": "stdout",
     "output_type": "stream",
     "text": [
      "النص الأصلي:  سيئ جدا بعد الإصدار الجديد\n",
      "['سيئ', 'الإصدار', 'الجديد']\n"
     ]
    }
   ],
   "source": [
    "# Sample Arabic stop words list\n",
    "\n",
    "text = \"هذا مثال على طريقة إزالة كلمات التوقف من النص باستخدام توكنزة بسيطة.\"\n",
    "filtered = remove_stopwords(data[0], stopwords)\n",
    "print(\"النص الأصلي: \", data[0])\n",
    "print(filtered)\n",
    "# الناتج المتوقع: ['مثال', 'طريقة', 'إزالة', 'كلمات', 'التوقف', 'النص', 'باستخدام', 'توكنزة', 'بسيطة', '.']\n"
   ]
  },
  {
   "cell_type": "markdown",
   "id": "ca5e7d6f",
   "metadata": {},
   "source": [
    "# preprocessing: \n",
    "- stopwords\n",
    "- emojis\n",
    "- normalize\n",
    "- punctuation"
   ]
  },
  {
   "cell_type": "code",
   "execution_count": 13,
   "id": "108da915",
   "metadata": {},
   "outputs": [
    {
     "name": "stdout",
     "output_type": "stream",
     "text": [
      "التطبيق لايعمل بطريقه صحيحه ودائما يتطلب منا زياره الفرع لانجاز اي معامله انصح القائمين ع البرنامج بحل هاذه المشاكل باسرع وقت التطبيق اصبح سئ جدا جدا جدا نرجو وضع حلول سري\n",
      "التطبيق لايعمل بطريقه صحيحه ودائما يتطلب منا زياره الفرع لانجاز اي معامله انصح القائمين ع البرنامج بحل هاذه المشاكل باسرع وقت التطبيق اصبح سئ جدا جدا جدا نرجو وضع حلول سري\n",
      "------------------------\n",
      "افتح التطبيق يطلع لي اصدار جديد يحولني على التحديث بس مافي تحديث ويعلق 😖\n",
      "افتح التطبيق يطلع لي اصدار جديد يحولني على التحديث بس مافي تحديث ويعلق \n"
     ]
    }
   ],
   "source": [
    "\n",
    "\n",
    "import re\n",
    "\n",
    "def normalize_arabic(text):\n",
    "    text = re.sub(r'[إأآا]', 'ا', text)\n",
    "    # text = re.sub(r'[ئ]', 'ي', text)\n",
    "    # text = re.sub(r'[ؤ]', 'و', text) \n",
    "    text = re.sub(r'ة', 'ه', text)\n",
    "    text = re.sub(r'ى', 'ي', text)\n",
    "    text = re.sub(r'[ًٌٍَُِّْ]', '', text)  \n",
    "    return text\n",
    "import re\n",
    "\n",
    "def remove_emojis(text):\n",
    "    # Define a regex pattern that matches a wide range of emoji Unicode blocks\n",
    "    emoji_pattern = re.compile(\n",
    "        \"[\"\n",
    "        u\"\\U0001F600-\\U0001F64F\"  # Emoticons\n",
    "        u\"\\U0001F300-\\U0001F5FF\"  # Symbols & pictographs\n",
    "        u\"\\U0001F680-\\U0001F6FF\"  # Transport & map symbols\n",
    "        u\"\\U0001F1E0-\\U0001F1FF\"  # Flags\n",
    "        u\"\\U00002700-\\U000027BF\"  # Dingbats\n",
    "        u\"\\U000024C2-\\U0001F251\"  # Enclosed characters\n",
    "        \"]+\", flags=re.UNICODE)\n",
    "\n",
    "    # Replace all matched emojis with an empty string\n",
    "    return emoji_pattern.sub(r'', text)\n",
    "import re\n",
    "\n",
    "def remove_punctuation(text):\n",
    "    # Arabic and English punctuation characters\n",
    "    punctuation_pattern = r'[.,!?؟،؛:«»\"\\'()\\[\\]{}…\\-–—_/\\\\@#$%^&*+=~`|<>‒]'\n",
    "    \n",
    "    # Replace all punctuation characters with an empty string\n",
    "    return re.sub(punctuation_pattern, '', text)\n",
    "def remove_stopwords(text, stopwords):\n",
    "    # Tokenize the text into words\n",
    "    tokens = simple_word_tokenize(text)\n",
    "\n",
    "    # Filter out tokens that are in the stopwords list\n",
    "    filtered_tokens = [token for token in tokens if token not in stopwords]\n",
    "\n",
    "    return filtered_tokens\n",
    "print(data[32])\n",
    "print(normalize_arabic(data[32]))\n",
    "print(\"------------------------\")\n",
    "print(data[332])\n",
    "print(remove_emojis(data[332]))\n",
    "\n"
   ]
  },
  {
   "cell_type": "code",
   "execution_count": 16,
   "id": "cbbd7a9e",
   "metadata": {},
   "outputs": [
    {
     "data": {
      "text/plain": [
       "Unnamed: 0            0\n",
       "review_description    2\n",
       "rating                0\n",
       "company               0\n",
       "dtype: int64"
      ]
     },
     "execution_count": 16,
     "metadata": {},
     "output_type": "execute_result"
    }
   ],
   "source": [
    "df.isna().sum()"
   ]
  },
  {
   "cell_type": "code",
   "execution_count": 18,
   "id": "e1299098",
   "metadata": {},
   "outputs": [
    {
     "name": "stdout",
     "output_type": "stream",
     "text": [
      "       Unnamed: 0 review_description  rating company\n",
      "63890       63890                NaN       0  hotels\n",
      "64405       64405                NaN       0  hotels\n"
     ]
    },
    {
     "data": {
      "text/plain": [
       "Unnamed: 0            0\n",
       "review_description    0\n",
       "rating                0\n",
       "company               0\n",
       "dtype: int64"
      ]
     },
     "execution_count": 18,
     "metadata": {},
     "output_type": "execute_result"
    }
   ],
   "source": [
    "#display NA values\n",
    "print(df[df['review_description'].isna()])\n",
    "df.dropna(subset=['review_description'], inplace=True)\n",
    "df.isna().sum()"
   ]
  },
  {
   "cell_type": "markdown",
   "id": "284eb38a",
   "metadata": {},
   "source": [
    "# tokenizor "
   ]
  },
  {
   "cell_type": "code",
   "execution_count": null,
   "id": "f3f24f06",
   "metadata": {},
   "outputs": [
    {
     "name": "stdout",
     "output_type": "stream",
     "text": [
      "Original: سيئ جدا بعد الإصدار الجديد\n",
      "Cleaned: سيئ الاصدار الجديد\n",
      "------------------------\n",
      "Original: ابلكيشن زباله بجد\n",
      "Cleaned: ابلكيشن زباله بجد\n",
      "------------------------\n",
      "Original: سيئ التطبيق لايعمل\n",
      "Cleaned: سيئ التطبيق لايعمل\n",
      "------------------------\n",
      "Original: للأسف التطبيق للأسوأ كان جدا رائع وسهل وبسيط الآن معقد ولا يفتح معاك بسهولة ولا تجد كل الخدمات متاحة لك\n",
      "Cleaned: للاسف التطبيق للاسوا رائع وسهل وبسيط معقد يفتح معاك بسهوله تجد الخدمات متاحه\n",
      "------------------------\n",
      "Original: التحديث بطيئ جدا جدا عند الفتح\n",
      "Cleaned: التحديث بطيئ الفتح\n",
      "------------------------\n"
     ]
    }
   ],
   "source": [
    "import numpy as np\n",
    "import re\n",
    "from camel_tools.tokenizers.word import simple_word_tokenize\n",
    "\n",
    "# Your cleaning functions (as you defined them)\n",
    "def normalize_arabic(text):\n",
    "    text = re.sub(r'[إأآا]', 'ا', text)\n",
    "    text = re.sub(r'ة', 'ه', text)\n",
    "    text = re.sub(r'ى', 'ي', text)\n",
    "    text = re.sub(r'[ًٌٍَُِّْ]', '', text)\n",
    "    return text\n",
    "\n",
    "def remove_emojis(text):\n",
    "    emoji_pattern = re.compile(\n",
    "        \"[\"\n",
    "        u\"\\U0001F600-\\U0001F64F\"\n",
    "        u\"\\U0001F300-\\U0001F5FF\"\n",
    "        u\"\\U0001F680-\\U0001F6FF\"\n",
    "        u\"\\U0001F1E0-\\U0001F1FF\"\n",
    "        u\"\\U00002700-\\U000027BF\"\n",
    "        u\"\\U000024C2-\\U0001F251\"\n",
    "        \"]+\", flags=re.UNICODE)\n",
    "    return emoji_pattern.sub(r'', text)\n",
    "\n",
    "def remove_punctuation(text):\n",
    "    punctuation_pattern = r'[.,!?؟،؛:«»\"\\'()\\[\\]{}…\\-–—_/\\\\@#$%^&*+=~`|<>‒]'\n",
    "    return re.sub(punctuation_pattern, '', text)\n",
    "\n",
    "def remove_stopwords(text, stopwords):\n",
    "    tokens = simple_word_tokenize(text)\n",
    "    filtered_tokens = [token for token in tokens if token not in stopwords]\n",
    "    return ' '.join(filtered_tokens)\n",
    "\n",
    "\n",
    "\n",
    "# Apply full preprocessing pipeline\n",
    "def clean_text(text):\n",
    "    \n",
    "    if not isinstance(text, str):\n",
    "        return \"\"  # Handle non-string inputs gracefully\n",
    "    \n",
    "    text = normalize_arabic(text) # Normalize Arabic text\n",
    "    text = remove_emojis(text) # Remove emojis\n",
    "    text = remove_punctuation(text) # Remove punctuation\n",
    "    text = re.sub(r'\\d+', '', text)  # Remove digits \n",
    "    text = re.sub(r'https?://\\S+|www\\.\\S+', '', text)  # Remove URLs\n",
    "    text = re.sub(r'\\s+', ' ', text).strip()  # Remove extra whitespace\n",
    "    text = remove_stopwords(text, stopwords) # Remove stopwords\n",
    "    return text\n",
    "\n",
    "\n",
    "\n",
    "\n",
    "# Apply cleaning to all elements\n",
    "cleaned_data = np.vectorize(clean_text)(data)\n",
    "\n",
    "for i in range(5):\n",
    "    print(f\"Original: {data[i]}\")\n",
    "    print(f\"Cleaned: {cleaned_data[i]}\")\n",
    "    print(\"------------------------\")\n"
   ]
  },
  {
   "cell_type": "code",
   "execution_count": 30,
   "id": "1a81dd0f",
   "metadata": {},
   "outputs": [
    {
     "data": {
      "text/plain": [
       "(67127, 67125)"
      ]
     },
     "execution_count": 30,
     "metadata": {},
     "output_type": "execute_result"
    }
   ],
   "source": [
    "len(cleaned_data), len(df['review_description'])"
   ]
  },
  {
   "cell_type": "code",
   "execution_count": 37,
   "id": "44c7aa77",
   "metadata": {},
   "outputs": [
    {
     "name": "stdout",
     "output_type": "stream",
     "text": [
      "67125 67125\n"
     ]
    }
   ],
   "source": [
    "# remove cleaned_data[64405] , cleaned_data[63890] because they are empty strings and to match the original dataset len \n",
    "cleaned_data = np.delete(cleaned_data, [64405, 63890])\n",
    "print(len(cleaned_data), len(df['review_description']))"
   ]
  },
  {
   "cell_type": "code",
   "execution_count": 38,
   "id": "661f2812",
   "metadata": {},
   "outputs": [],
   "source": [
    "df[\"cleaned_review_description\"] = cleaned_data\n",
    "import pandas as pd\n",
    "df.to_excel('cleaned_dataset.xlsx', index=False)"
   ]
  },
  {
   "cell_type": "code",
   "execution_count": 20,
   "id": "909cb8ff",
   "metadata": {},
   "outputs": [
    {
     "name": "stdout",
     "output_type": "stream",
     "text": [
      "<class 'pandas.core.frame.DataFrame'>\n",
      "Index: 67125 entries, 0 to 67126\n",
      "Data columns (total 4 columns):\n",
      " #   Column              Non-Null Count  Dtype \n",
      "---  ------              --------------  ----- \n",
      " 0   Unnamed: 0          67125 non-null  int64 \n",
      " 1   review_description  67125 non-null  object\n",
      " 2   rating              67125 non-null  int64 \n",
      " 3   company             67125 non-null  object\n",
      "dtypes: int64(2), object(2)\n",
      "memory usage: 2.6+ MB\n"
     ]
    }
   ],
   "source": [
    "df.info()"
   ]
  },
  {
   "cell_type": "code",
   "execution_count": 25,
   "id": "f896c2e0",
   "metadata": {},
   "outputs": [
    {
     "data": {
      "text/plain": [
       "''"
      ]
     },
     "execution_count": 25,
     "metadata": {},
     "output_type": "execute_result"
    }
   ],
   "source": [
    "clean_text(data[21027])"
   ]
  },
  {
   "cell_type": "code",
   "execution_count": 9,
   "id": "bc2dd584",
   "metadata": {},
   "outputs": [
    {
     "data": {
      "text/html": [
       "<div>\n",
       "<style scoped>\n",
       "    .dataframe tbody tr th:only-of-type {\n",
       "        vertical-align: middle;\n",
       "    }\n",
       "\n",
       "    .dataframe tbody tr th {\n",
       "        vertical-align: top;\n",
       "    }\n",
       "\n",
       "    .dataframe thead th {\n",
       "        text-align: right;\n",
       "    }\n",
       "</style>\n",
       "<table border=\"1\" class=\"dataframe\">\n",
       "  <thead>\n",
       "    <tr style=\"text-align: right;\">\n",
       "      <th></th>\n",
       "      <th>Unnamed: 0</th>\n",
       "      <th>review_description</th>\n",
       "      <th>rating</th>\n",
       "      <th>company</th>\n",
       "      <th>cleaned_review_description</th>\n",
       "    </tr>\n",
       "  </thead>\n",
       "  <tbody>\n",
       "    <tr>\n",
       "      <th>0</th>\n",
       "      <td>0</td>\n",
       "      <td>سيئ جدا بعد الإصدار الجديد</td>\n",
       "      <td>-1</td>\n",
       "      <td>alahli_bank</td>\n",
       "      <td>سيئ الاصدار الجديد</td>\n",
       "    </tr>\n",
       "    <tr>\n",
       "      <th>1</th>\n",
       "      <td>1</td>\n",
       "      <td>ابلكيشن زباله بجد</td>\n",
       "      <td>-1</td>\n",
       "      <td>alahli_bank</td>\n",
       "      <td>ابلكيشن زباله بجد</td>\n",
       "    </tr>\n",
       "    <tr>\n",
       "      <th>2</th>\n",
       "      <td>2</td>\n",
       "      <td>سيئ التطبيق لايعمل</td>\n",
       "      <td>-1</td>\n",
       "      <td>alahli_bank</td>\n",
       "      <td>سيئ التطبيق لايعمل</td>\n",
       "    </tr>\n",
       "    <tr>\n",
       "      <th>3</th>\n",
       "      <td>3</td>\n",
       "      <td>للأسف التطبيق للأسوأ كان جدا رائع وسهل وبسيط ا...</td>\n",
       "      <td>-1</td>\n",
       "      <td>alahli_bank</td>\n",
       "      <td>للاسف التطبيق للاسوا رائع وسهل وبسيط معقد يفتح...</td>\n",
       "    </tr>\n",
       "    <tr>\n",
       "      <th>4</th>\n",
       "      <td>4</td>\n",
       "      <td>التحديث بطيئ جدا جدا عند الفتح</td>\n",
       "      <td>-1</td>\n",
       "      <td>alahli_bank</td>\n",
       "      <td>التحديث بطيئ الفتح</td>\n",
       "    </tr>\n",
       "    <tr>\n",
       "      <th>5</th>\n",
       "      <td>5</td>\n",
       "      <td>مرررره زق من بعد اخر تحديث ما فتحلي ابدآ ويرفض...</td>\n",
       "      <td>-1</td>\n",
       "      <td>alahli_bank</td>\n",
       "      <td>مرررره زق اخر تحديث فتحلي ابدا ويرفض كلمه مرور...</td>\n",
       "    </tr>\n",
       "    <tr>\n",
       "      <th>6</th>\n",
       "      <td>6</td>\n",
       "      <td>التطبيق ما يشتغل كل ما اعمل تسجيل دخول على حسا...</td>\n",
       "      <td>-1</td>\n",
       "      <td>alahli_bank</td>\n",
       "      <td>التطبيق يشتغل اعمل تسجيل دخول حسابي يفتح شوفو ...</td>\n",
       "    </tr>\n",
       "    <tr>\n",
       "      <th>7</th>\n",
       "      <td>7</td>\n",
       "      <td>اذا قمت بفتح التطبيق يطلب تحديث واذا ضغطت على ...</td>\n",
       "      <td>0</td>\n",
       "      <td>alahli_bank</td>\n",
       "      <td>قمت بفتح التطبيق يطلب تحديث واذا ضغطت التحديث ...</td>\n",
       "    </tr>\n",
       "    <tr>\n",
       "      <th>8</th>\n",
       "      <td>8</td>\n",
       "      <td>للاسف سيئ جدا من امس احاول استخدمه مافي اتواصل...</td>\n",
       "      <td>-1</td>\n",
       "      <td>alahli_bank</td>\n",
       "      <td>للاسف سيئ احاول استخدمه مافي اتواصلت خدمات الع...</td>\n",
       "    </tr>\n",
       "    <tr>\n",
       "      <th>9</th>\n",
       "      <td>9</td>\n",
       "      <td>صراحه شي موسف</td>\n",
       "      <td>-1</td>\n",
       "      <td>alahli_bank</td>\n",
       "      <td>صراحه شي موسف</td>\n",
       "    </tr>\n",
       "  </tbody>\n",
       "</table>\n",
       "</div>"
      ],
      "text/plain": [
       "   Unnamed: 0                                 review_description  rating  \\\n",
       "0           0                         سيئ جدا بعد الإصدار الجديد      -1   \n",
       "1           1                                  ابلكيشن زباله بجد      -1   \n",
       "2           2                                 سيئ التطبيق لايعمل      -1   \n",
       "3           3  للأسف التطبيق للأسوأ كان جدا رائع وسهل وبسيط ا...      -1   \n",
       "4           4                     التحديث بطيئ جدا جدا عند الفتح      -1   \n",
       "5           5  مرررره زق من بعد اخر تحديث ما فتحلي ابدآ ويرفض...      -1   \n",
       "6           6  التطبيق ما يشتغل كل ما اعمل تسجيل دخول على حسا...      -1   \n",
       "7           7  اذا قمت بفتح التطبيق يطلب تحديث واذا ضغطت على ...       0   \n",
       "8           8  للاسف سيئ جدا من امس احاول استخدمه مافي اتواصل...      -1   \n",
       "9           9                                      صراحه شي موسف      -1   \n",
       "\n",
       "       company                         cleaned_review_description  \n",
       "0  alahli_bank                                 سيئ الاصدار الجديد  \n",
       "1  alahli_bank                                  ابلكيشن زباله بجد  \n",
       "2  alahli_bank                                 سيئ التطبيق لايعمل  \n",
       "3  alahli_bank  للاسف التطبيق للاسوا رائع وسهل وبسيط معقد يفتح...  \n",
       "4  alahli_bank                                 التحديث بطيئ الفتح  \n",
       "5  alahli_bank  مرررره زق اخر تحديث فتحلي ابدا ويرفض كلمه مرور...  \n",
       "6  alahli_bank  التطبيق يشتغل اعمل تسجيل دخول حسابي يفتح شوفو ...  \n",
       "7  alahli_bank  قمت بفتح التطبيق يطلب تحديث واذا ضغطت التحديث ...  \n",
       "8  alahli_bank  للاسف سيئ احاول استخدمه مافي اتواصلت خدمات الع...  \n",
       "9  alahli_bank                                      صراحه شي موسف  "
      ]
     },
     "execution_count": 9,
     "metadata": {},
     "output_type": "execute_result"
    }
   ],
   "source": [
    "clean_df = pd.read_excel('cleaned_dataset.xlsx')\n",
    "clean_df.head(10)"
   ]
  },
  {
   "cell_type": "markdown",
   "id": "0de2c141",
   "metadata": {},
   "source": [
    "#### extra cleaning: Replace 3 or more repeated characters with 1 \n",
    "with exmple "
   ]
  },
  {
   "cell_type": "code",
   "execution_count": 44,
   "id": "09d73431",
   "metadata": {},
   "outputs": [
    {
     "name": "stdout",
     "output_type": "stream",
     "text": [
      "مره حلو\n"
     ]
    }
   ],
   "source": [
    "import re\n",
    "\n",
    "def normalize_elongation(text):\n",
    "    if not isinstance(text, str):\n",
    "        return \"\"  # Handle non-string inputs gracefully\n",
    "    \n",
    "    # Replace 3 or more repeated characters with 1\n",
    "    return re.sub(r'(.)\\1{2,}', r'\\1', text)\n",
    "\n",
    "text = \"مرررره حلوووووو\"\n",
    "normalized = normalize_elongation(text)\n",
    "print(normalized)  \n"
   ]
  },
  {
   "cell_type": "code",
   "execution_count": 41,
   "id": "b0e1c97d",
   "metadata": {},
   "outputs": [],
   "source": [
    "temp_data = np.array(clean_df['cleaned_review_description'])"
   ]
  },
  {
   "cell_type": "code",
   "execution_count": 43,
   "id": "cdef01c1",
   "metadata": {},
   "outputs": [
    {
     "data": {
      "text/plain": [
       "Unnamed: 0                      0\n",
       "review_description              0\n",
       "rating                          0\n",
       "company                         0\n",
       "cleaned_review_description    821\n",
       "dtype: int64"
      ]
     },
     "execution_count": 43,
     "metadata": {},
     "output_type": "execute_result"
    }
   ],
   "source": [
    "clean_df.isna().sum()   "
   ]
  },
  {
   "cell_type": "code",
   "execution_count": 50,
   "id": "53e55c32",
   "metadata": {},
   "outputs": [
    {
     "name": "stdout",
     "output_type": "stream",
     "text": [
      "Original: فشل فشل وااااضح شي معقد التطبيق يعتبر للتسهيل للتعقيد\n",
      "Cleaned: فشل فشل واضح شي معقد التطبيق يعتبر للتسهيل للتعقيد\n",
      "------------------------\n"
     ]
    }
   ],
   "source": [
    "cleaned_temp_data = np.vectorize(normalize_elongation)(temp_data)\n",
    "\n",
    "print(f\"Original: {temp_data[26]}\")\n",
    "print(f\"Cleaned: {cleaned_temp_data[26]}\")\n",
    "print(\"------------------------\")"
   ]
  },
  {
   "cell_type": "code",
   "execution_count": 46,
   "id": "c6a2b815",
   "metadata": {},
   "outputs": [
    {
     "data": {
      "text/html": [
       "<div>\n",
       "<style scoped>\n",
       "    .dataframe tbody tr th:only-of-type {\n",
       "        vertical-align: middle;\n",
       "    }\n",
       "\n",
       "    .dataframe tbody tr th {\n",
       "        vertical-align: top;\n",
       "    }\n",
       "\n",
       "    .dataframe thead th {\n",
       "        text-align: right;\n",
       "    }\n",
       "</style>\n",
       "<table border=\"1\" class=\"dataframe\">\n",
       "  <thead>\n",
       "    <tr style=\"text-align: right;\">\n",
       "      <th></th>\n",
       "      <th>Unnamed: 0</th>\n",
       "      <th>review_description</th>\n",
       "      <th>rating</th>\n",
       "      <th>company</th>\n",
       "      <th>cleaned_review_description</th>\n",
       "    </tr>\n",
       "  </thead>\n",
       "  <tbody>\n",
       "    <tr>\n",
       "      <th>7445</th>\n",
       "      <td>7445</td>\n",
       "      <td>سئ جدا لا انصح اي حد بالتعامل معه خدمه توصيل س...</td>\n",
       "      <td>-1</td>\n",
       "      <td>talbat</td>\n",
       "      <td>سئ انصح حد بالتعامل خدمه توصيل سيئه حمايه المس...</td>\n",
       "    </tr>\n",
       "    <tr>\n",
       "      <th>38280</th>\n",
       "      <td>38280</td>\n",
       "      <td>تطبيق جميل ونشكر جهود العاملين عليه</td>\n",
       "      <td>1</td>\n",
       "      <td>talbat</td>\n",
       "      <td>تطبيق جميل ونشكر جهود العاملين</td>\n",
       "    </tr>\n",
       "    <tr>\n",
       "      <th>58560</th>\n",
       "      <td>58560</td>\n",
       "      <td>رواية جديدة و رؤية مختلفة من كاتب عميق التأمل ...</td>\n",
       "      <td>0</td>\n",
       "      <td>hotels</td>\n",
       "      <td>روايه جديده رؤيه مختلفه كاتب عميق التامل ماهيه...</td>\n",
       "    </tr>\n",
       "    <tr>\n",
       "      <th>30015</th>\n",
       "      <td>30015</td>\n",
       "      <td>استفاد منه وايد اطلب الساعه ١١ بليل</td>\n",
       "      <td>1</td>\n",
       "      <td>talbat</td>\n",
       "      <td>استفاد وايد اطلب الساعه بليل</td>\n",
       "    </tr>\n",
       "    <tr>\n",
       "      <th>45584</th>\n",
       "      <td>45584</td>\n",
       "      <td>حاجه زي الخرا</td>\n",
       "      <td>-1</td>\n",
       "      <td>telecom_egypt</td>\n",
       "      <td>حاجه زي الخرا</td>\n",
       "    </tr>\n",
       "    <tr>\n",
       "      <th>51223</th>\n",
       "      <td>51223</td>\n",
       "      <td>حستها فيلم عربى قديم بشكل ما : . مش واقعية خال...</td>\n",
       "      <td>0</td>\n",
       "      <td>hotels</td>\n",
       "      <td>حستها فيلم عربي قديم مش واقعيه خالص الجزء اللي...</td>\n",
       "    </tr>\n",
       "    <tr>\n",
       "      <th>65299</th>\n",
       "      <td>65301</td>\n",
       "      <td>أرجح الاحتمالات الطيبة لكل السوء الذى حدث .. ا...</td>\n",
       "      <td>0</td>\n",
       "      <td>hotels</td>\n",
       "      <td>ارجح الاحتمالات الطيبه لكل السوء حدث المحبه خد...</td>\n",
       "    </tr>\n",
       "    <tr>\n",
       "      <th>26219</th>\n",
       "      <td>26219</td>\n",
       "      <td>كفوو</td>\n",
       "      <td>1</td>\n",
       "      <td>talbat</td>\n",
       "      <td>كفوو</td>\n",
       "    </tr>\n",
       "    <tr>\n",
       "      <th>43840</th>\n",
       "      <td>43840</td>\n",
       "      <td>جدا فاشل ومافي مطاعم كثير</td>\n",
       "      <td>-1</td>\n",
       "      <td>talbat</td>\n",
       "      <td>فاشل ومافي مطاعم كثير</td>\n",
       "    </tr>\n",
       "    <tr>\n",
       "      <th>61191</th>\n",
       "      <td>61191</td>\n",
       "      <td>فندق بهذا الجمال يحتاج لخدمة افضل . غرفة جميلة...</td>\n",
       "      <td>0</td>\n",
       "      <td>hotels</td>\n",
       "      <td>فندق الجمال يحتاج لخدمه افضل غرفه جميله تطل مي...</td>\n",
       "    </tr>\n",
       "  </tbody>\n",
       "</table>\n",
       "</div>"
      ],
      "text/plain": [
       "       Unnamed: 0                                 review_description  rating  \\\n",
       "7445         7445  سئ جدا لا انصح اي حد بالتعامل معه خدمه توصيل س...      -1   \n",
       "38280       38280                تطبيق جميل ونشكر جهود العاملين عليه       1   \n",
       "58560       58560  رواية جديدة و رؤية مختلفة من كاتب عميق التأمل ...       0   \n",
       "30015       30015                استفاد منه وايد اطلب الساعه ١١ بليل       1   \n",
       "45584       45584                                      حاجه زي الخرا      -1   \n",
       "51223       51223  حستها فيلم عربى قديم بشكل ما : . مش واقعية خال...       0   \n",
       "65299       65301  أرجح الاحتمالات الطيبة لكل السوء الذى حدث .. ا...       0   \n",
       "26219       26219                                               كفوو       1   \n",
       "43840       43840                          جدا فاشل ومافي مطاعم كثير      -1   \n",
       "61191       61191  فندق بهذا الجمال يحتاج لخدمة افضل . غرفة جميلة...       0   \n",
       "\n",
       "             company                         cleaned_review_description  \n",
       "7445          talbat  سئ انصح حد بالتعامل خدمه توصيل سيئه حمايه المس...  \n",
       "38280         talbat                     تطبيق جميل ونشكر جهود العاملين  \n",
       "58560         hotels  روايه جديده رؤيه مختلفه كاتب عميق التامل ماهيه...  \n",
       "30015         talbat                       استفاد وايد اطلب الساعه بليل  \n",
       "45584  telecom_egypt                                      حاجه زي الخرا  \n",
       "51223         hotels  حستها فيلم عربي قديم مش واقعيه خالص الجزء اللي...  \n",
       "65299         hotels  ارجح الاحتمالات الطيبه لكل السوء حدث المحبه خد...  \n",
       "26219         talbat                                               كفوو  \n",
       "43840         talbat                              فاشل ومافي مطاعم كثير  \n",
       "61191         hotels  فندق الجمال يحتاج لخدمه افضل غرفه جميله تطل مي...  "
      ]
     },
     "execution_count": 46,
     "metadata": {},
     "output_type": "execute_result"
    }
   ],
   "source": [
    "clean_df.sample(10)"
   ]
  },
  {
   "cell_type": "code",
   "execution_count": 51,
   "id": "c75c6bc4",
   "metadata": {},
   "outputs": [],
   "source": [
    "clean_df['cleaned_review_description'] = cleaned_temp_data\n",
    "clean_df.to_excel('final_cleaned_dataset.xlsx', index=False)"
   ]
  },
  {
   "cell_type": "markdown",
   "id": "a133cf10",
   "metadata": {},
   "source": [
    "# Stemming"
   ]
  },
  {
   "cell_type": "code",
   "execution_count": 10,
   "id": "9abdab8b",
   "metadata": {},
   "outputs": [
    {
     "data": {
      "text/html": [
       "<div>\n",
       "<style scoped>\n",
       "    .dataframe tbody tr th:only-of-type {\n",
       "        vertical-align: middle;\n",
       "    }\n",
       "\n",
       "    .dataframe tbody tr th {\n",
       "        vertical-align: top;\n",
       "    }\n",
       "\n",
       "    .dataframe thead th {\n",
       "        text-align: right;\n",
       "    }\n",
       "</style>\n",
       "<table border=\"1\" class=\"dataframe\">\n",
       "  <thead>\n",
       "    <tr style=\"text-align: right;\">\n",
       "      <th></th>\n",
       "      <th>Unnamed: 0</th>\n",
       "      <th>review_description</th>\n",
       "      <th>rating</th>\n",
       "      <th>company</th>\n",
       "      <th>cleaned_review_description</th>\n",
       "    </tr>\n",
       "  </thead>\n",
       "  <tbody>\n",
       "    <tr>\n",
       "      <th>0</th>\n",
       "      <td>0</td>\n",
       "      <td>سيئ جدا بعد الإصدار الجديد</td>\n",
       "      <td>-1</td>\n",
       "      <td>alahli_bank</td>\n",
       "      <td>سيئ الاصدار الجديد</td>\n",
       "    </tr>\n",
       "    <tr>\n",
       "      <th>1</th>\n",
       "      <td>1</td>\n",
       "      <td>ابلكيشن زباله بجد</td>\n",
       "      <td>-1</td>\n",
       "      <td>alahli_bank</td>\n",
       "      <td>ابلكيشن زباله بجد</td>\n",
       "    </tr>\n",
       "    <tr>\n",
       "      <th>2</th>\n",
       "      <td>2</td>\n",
       "      <td>سيئ التطبيق لايعمل</td>\n",
       "      <td>-1</td>\n",
       "      <td>alahli_bank</td>\n",
       "      <td>سيئ التطبيق لايعمل</td>\n",
       "    </tr>\n",
       "    <tr>\n",
       "      <th>3</th>\n",
       "      <td>3</td>\n",
       "      <td>للأسف التطبيق للأسوأ كان جدا رائع وسهل وبسيط ا...</td>\n",
       "      <td>-1</td>\n",
       "      <td>alahli_bank</td>\n",
       "      <td>للاسف التطبيق للاسوا رائع وسهل وبسيط معقد يفتح...</td>\n",
       "    </tr>\n",
       "    <tr>\n",
       "      <th>4</th>\n",
       "      <td>4</td>\n",
       "      <td>التحديث بطيئ جدا جدا عند الفتح</td>\n",
       "      <td>-1</td>\n",
       "      <td>alahli_bank</td>\n",
       "      <td>التحديث بطيئ الفتح</td>\n",
       "    </tr>\n",
       "    <tr>\n",
       "      <th>5</th>\n",
       "      <td>5</td>\n",
       "      <td>مرررره زق من بعد اخر تحديث ما فتحلي ابدآ ويرفض...</td>\n",
       "      <td>-1</td>\n",
       "      <td>alahli_bank</td>\n",
       "      <td>مره زق اخر تحديث فتحلي ابدا ويرفض كلمه مرور اك...</td>\n",
       "    </tr>\n",
       "    <tr>\n",
       "      <th>6</th>\n",
       "      <td>6</td>\n",
       "      <td>التطبيق ما يشتغل كل ما اعمل تسجيل دخول على حسا...</td>\n",
       "      <td>-1</td>\n",
       "      <td>alahli_bank</td>\n",
       "      <td>التطبيق يشتغل اعمل تسجيل دخول حسابي يفتح شوفو ...</td>\n",
       "    </tr>\n",
       "    <tr>\n",
       "      <th>7</th>\n",
       "      <td>7</td>\n",
       "      <td>اذا قمت بفتح التطبيق يطلب تحديث واذا ضغطت على ...</td>\n",
       "      <td>0</td>\n",
       "      <td>alahli_bank</td>\n",
       "      <td>قمت بفتح التطبيق يطلب تحديث واذا ضغطت التحديث ...</td>\n",
       "    </tr>\n",
       "    <tr>\n",
       "      <th>8</th>\n",
       "      <td>8</td>\n",
       "      <td>للاسف سيئ جدا من امس احاول استخدمه مافي اتواصل...</td>\n",
       "      <td>-1</td>\n",
       "      <td>alahli_bank</td>\n",
       "      <td>للاسف سيئ احاول استخدمه مافي اتواصلت خدمات الع...</td>\n",
       "    </tr>\n",
       "    <tr>\n",
       "      <th>9</th>\n",
       "      <td>9</td>\n",
       "      <td>صراحه شي موسف</td>\n",
       "      <td>-1</td>\n",
       "      <td>alahli_bank</td>\n",
       "      <td>صراحه شي موسف</td>\n",
       "    </tr>\n",
       "  </tbody>\n",
       "</table>\n",
       "</div>"
      ],
      "text/plain": [
       "   Unnamed: 0                                 review_description  rating  \\\n",
       "0           0                         سيئ جدا بعد الإصدار الجديد      -1   \n",
       "1           1                                  ابلكيشن زباله بجد      -1   \n",
       "2           2                                 سيئ التطبيق لايعمل      -1   \n",
       "3           3  للأسف التطبيق للأسوأ كان جدا رائع وسهل وبسيط ا...      -1   \n",
       "4           4                     التحديث بطيئ جدا جدا عند الفتح      -1   \n",
       "5           5  مرررره زق من بعد اخر تحديث ما فتحلي ابدآ ويرفض...      -1   \n",
       "6           6  التطبيق ما يشتغل كل ما اعمل تسجيل دخول على حسا...      -1   \n",
       "7           7  اذا قمت بفتح التطبيق يطلب تحديث واذا ضغطت على ...       0   \n",
       "8           8  للاسف سيئ جدا من امس احاول استخدمه مافي اتواصل...      -1   \n",
       "9           9                                      صراحه شي موسف      -1   \n",
       "\n",
       "       company                         cleaned_review_description  \n",
       "0  alahli_bank                                 سيئ الاصدار الجديد  \n",
       "1  alahli_bank                                  ابلكيشن زباله بجد  \n",
       "2  alahli_bank                                 سيئ التطبيق لايعمل  \n",
       "3  alahli_bank  للاسف التطبيق للاسوا رائع وسهل وبسيط معقد يفتح...  \n",
       "4  alahli_bank                                 التحديث بطيئ الفتح  \n",
       "5  alahli_bank  مره زق اخر تحديث فتحلي ابدا ويرفض كلمه مرور اك...  \n",
       "6  alahli_bank  التطبيق يشتغل اعمل تسجيل دخول حسابي يفتح شوفو ...  \n",
       "7  alahli_bank  قمت بفتح التطبيق يطلب تحديث واذا ضغطت التحديث ...  \n",
       "8  alahli_bank  للاسف سيئ احاول استخدمه مافي اتواصلت خدمات الع...  \n",
       "9  alahli_bank                                      صراحه شي موسف  "
      ]
     },
     "execution_count": 10,
     "metadata": {},
     "output_type": "execute_result"
    }
   ],
   "source": [
    "final_df = pd.read_excel('final_cleaned_dataset.xlsx')\n",
    "final_df.head(10)"
   ]
  },
  {
   "cell_type": "code",
   "execution_count": 30,
   "id": "20ca8d65",
   "metadata": {},
   "outputs": [
    {
     "data": {
      "text/html": [
       "<div>\n",
       "<style scoped>\n",
       "    .dataframe tbody tr th:only-of-type {\n",
       "        vertical-align: middle;\n",
       "    }\n",
       "\n",
       "    .dataframe tbody tr th {\n",
       "        vertical-align: top;\n",
       "    }\n",
       "\n",
       "    .dataframe thead th {\n",
       "        text-align: right;\n",
       "    }\n",
       "</style>\n",
       "<table border=\"1\" class=\"dataframe\">\n",
       "  <thead>\n",
       "    <tr style=\"text-align: right;\">\n",
       "      <th></th>\n",
       "      <th>Unnamed: 0</th>\n",
       "      <th>review_description</th>\n",
       "      <th>rating</th>\n",
       "      <th>company</th>\n",
       "      <th>cleaned_review_description</th>\n",
       "    </tr>\n",
       "  </thead>\n",
       "  <tbody>\n",
       "  </tbody>\n",
       "</table>\n",
       "</div>"
      ],
      "text/plain": [
       "Empty DataFrame\n",
       "Columns: [Unnamed: 0, review_description, rating, company, cleaned_review_description]\n",
       "Index: []"
      ]
     },
     "execution_count": 30,
     "metadata": {},
     "output_type": "execute_result"
    }
   ],
   "source": [
    "# show empty strings\n"
   ]
  },
  {
   "cell_type": "code",
   "execution_count": 11,
   "id": "44afeebe",
   "metadata": {},
   "outputs": [],
   "source": [
    "final_data = np.array(final_df['cleaned_review_description'])"
   ]
  },
  {
   "cell_type": "code",
   "execution_count": null,
   "id": "29672bd0",
   "metadata": {},
   "outputs": [],
   "source": []
  },
  {
   "cell_type": "code",
   "execution_count": 43,
   "id": "538696cd",
   "metadata": {},
   "outputs": [
    {
     "name": "stdout",
     "output_type": "stream",
     "text": [
      "مر زق خر حديث حل بد رفض لم مرور كتب رقم بطاقه اهل خربتو طبيق غلب ناس معتمد اسف\n",
      "مره زق اخر تحديث فتحلي ابدا ويرفض كلمه مرور اكتبها رقم البطاقه الاهلي خربتوا تطبيق اغلب الناس معتمده للاسف\n"
     ]
    }
   ],
   "source": [
    "# use camel-tools for tokenization and tashaphyne for stemming\n",
    "from tashaphyne.stemming import ArabicLightStemmer\n",
    "from camel_tools.tokenizers.word import simple_word_tokenize\n",
    "\n",
    "def stem_arabic_text(text):\n",
    "    \n",
    "    if not isinstance(text, str):\n",
    "        return \"\"  # Handle non-string inputs gracefully\n",
    "    \n",
    "    stemmer = ArabicLightStemmer()\n",
    "    tokens = simple_word_tokenize(text)\n",
    "    stems = []\n",
    "\n",
    "    for token in tokens:\n",
    "        stemmer.light_stem(token)\n",
    "        stems.append(stemmer.get_stem())  # Or use get_root() if you prefer\n",
    "\n",
    "    return ' '.join(stems)\n",
    "\n",
    "\n",
    "print(stem_arabic_text(final_data[5]))\n",
    "print(final_data[5])  # Example usage"
   ]
  },
  {
   "cell_type": "code",
   "execution_count": null,
   "id": "d7211e35",
   "metadata": {},
   "outputs": [],
   "source": []
  },
  {
   "cell_type": "code",
   "execution_count": 46,
   "id": "72582534",
   "metadata": {},
   "outputs": [
    {
     "name": "stdout",
     "output_type": "stream",
     "text": [
      "Original: مره زق اخر تحديث فتحلي ابدا ويرفض كلمه مرور اكتبها رقم البطاقه الاهلي خربتوا تطبيق اغلب الناس معتمده للاسف\n",
      "Stemmed: مر زق خر حديث حل بد رفض لم مرور كتب رقم بطاقه اهل خربتو طبيق غلب ناس معتمد اسف\n",
      "------------------------\n",
      "Original: التطبيق يشتغل اعمل تسجيل دخول حسابي يفتح شوفو لكم حل انا معطله\n",
      "Stemmed: تطبيق شتغل عمل سجيل دخول حساب فتح شوف لكم حل نا معطل\n",
      "------------------------\n",
      "Original: قمت بفتح التطبيق يطلب تحديث واذا ضغطت التحديث يقبل التحديث لاهو اللي فتح ولاهو اللي تحدث وش المشكله\n",
      "Stemmed: قم فتح تطبيق طلب حديث ذا ضغط تحديث قبل تحديث اهو لي تح اهو لي حدث وش مشكله\n",
      "------------------------\n",
      "Original: للاسف سيئ احاول استخدمه مافي اتواصلت خدمات العملاء احذفه وانزله جديد تحديث ونفس المشكله ماانحلت\n",
      "Stemmed: اسف سيئ حاول ستخدم ماف اتواصل خدم عملاء حذف نزل جديد حديث نفس مشكله ماانحلت\n",
      "------------------------\n",
      "Original: صراحه شي موسف\n",
      "Stemmed: صراح شي موسف\n",
      "------------------------\n"
     ]
    }
   ],
   "source": [
    "stem_final_data = np.vectorize(stem_arabic_text)(final_data)\n",
    "\n",
    "for i in range(5, 10):\n",
    "    print(f\"Original: {final_data[i]}\")\n",
    "    print(f\"Stemmed: {stem_final_data[i]}\")\n",
    "    print(\"------------------------\")"
   ]
  },
  {
   "cell_type": "code",
   "execution_count": 48,
   "id": "a4eec026",
   "metadata": {},
   "outputs": [],
   "source": [
    "final_df['stemmed_review_description'] = stem_final_data\n",
    "final_df.to_excel('final_stemmed_dataset.xlsx', index=False)"
   ]
  },
  {
   "cell_type": "code",
   "execution_count": null,
   "id": "add0b680",
   "metadata": {},
   "outputs": [],
   "source": []
  }
 ],
 "metadata": {
  "kernelspec": {
   "display_name": "base",
   "language": "python",
   "name": "python3"
  },
  "language_info": {
   "codemirror_mode": {
    "name": "ipython",
    "version": 3
   },
   "file_extension": ".py",
   "mimetype": "text/x-python",
   "name": "python",
   "nbconvert_exporter": "python",
   "pygments_lexer": "ipython3",
   "version": "3.11.7"
  }
 },
 "nbformat": 4,
 "nbformat_minor": 5
}
